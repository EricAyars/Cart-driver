{
 "cells": [
  {
   "cell_type": "code",
   "execution_count": 1,
   "id": "f22f6b33-0331-4945-ac00-f846a263cd30",
   "metadata": {},
   "outputs": [],
   "source": [
    "from gdx import gdx\n",
    "gdx=gdx.gdx()\n",
    "\n",
    "dT = 100\n",
    "N = 1024"
   ]
  },
  {
   "cell_type": "code",
   "execution_count": 2,
   "id": "0c33784a-b91c-4953-b80f-16a508c4cf33",
   "metadata": {},
   "outputs": [
    {
     "name": "stdout",
     "output_type": "stream",
     "text": [
      "wait for bluetooth initialization...\n",
      "No Go Direct device found \n",
      "\n",
      "Troubleshooting tips... \n",
      "Make sure device is powered on \n",
      "Confirm computer Bluetooth is on \n",
      "Open GA (Graphical Analysis) to verify a good connection \n",
      "\n"
     ]
    },
    {
     "name": "stderr",
     "output_type": "stream",
     "text": [
      "C:\\Users\\Eric\\Documents\\GitHub\\Cart-driver\\Control\\gdx\\gdx.py:189: RuntimeWarning: coroutine 'GoDirectBackendBleak._async_scan' was never awaited\n",
      "  gdx.devices = []\n",
      "RuntimeWarning: Enable tracemalloc to get the object allocation traceback\n"
     ]
    }
   ],
   "source": [
    "gdx.open(connection='ble', device_to_open=\"GDX-CART-Y 0D400518, GDX-CART-G 0V4001X3\")"
   ]
  },
  {
   "cell_type": "code",
   "execution_count": null,
   "id": "fbcd49dc-d3f9-4d85-9cb3-5bc513a79456",
   "metadata": {},
   "outputs": [],
   "source": []
  },
  {
   "cell_type": "code",
   "execution_count": null,
   "id": "530ad787-b562-43d2-ba4e-ac186dde99da",
   "metadata": {},
   "outputs": [],
   "source": []
  }
 ],
 "metadata": {
  "kernelspec": {
   "display_name": "Python 3 (ipykernel)",
   "language": "python",
   "name": "python3"
  },
  "language_info": {
   "codemirror_mode": {
    "name": "ipython",
    "version": 3
   },
   "file_extension": ".py",
   "mimetype": "text/x-python",
   "name": "python",
   "nbconvert_exporter": "python",
   "pygments_lexer": "ipython3",
   "version": "3.12.3"
  }
 },
 "nbformat": 4,
 "nbformat_minor": 5
}
